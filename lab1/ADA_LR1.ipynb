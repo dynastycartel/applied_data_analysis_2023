{
  "nbformat": 4,
  "nbformat_minor": 0,
  "metadata": {
    "colab": {
      "provenance": []
    },
    "kernelspec": {
      "name": "python3",
      "display_name": "Python 3"
    },
    "language_info": {
      "name": "python"
    }
  },
  "cells": [
    {
      "cell_type": "code",
      "source": [
        "import numpy as np\n",
        "import pandas as pd\n",
        "from google.colab import files\n",
        "import io\n",
        "from sklearn.metrics import mean_squared_error, r2_score"
      ],
      "metadata": {
        "id": "kKPlvpGQAMvP"
      },
      "execution_count": null,
      "outputs": []
    },
    {
      "cell_type": "code",
      "source": [
        "df = pd.read_excel('ADA_LR1_source.xlsx')"
      ],
      "metadata": {
        "id": "tazNqDvpBWl2",
        "colab": {
          "base_uri": "https://localhost:8080/",
          "height": 69
        },
        "outputId": "d56547ab-5a60-470a-e4f3-b5ca2929d3aa"
      },
      "execution_count": null,
      "outputs": [
        {
          "output_type": "display_data",
          "data": {
            "text/plain": [
              "<IPython.core.display.HTML object>"
            ],
            "text/html": [
              "\n",
              "     <input type=\"file\" id=\"files-02193933-d252-45ce-b438-345a50d8afe4\" name=\"files[]\" multiple disabled\n",
              "        style=\"border:none\" />\n",
              "     <output id=\"result-02193933-d252-45ce-b438-345a50d8afe4\">\n",
              "      Upload widget is only available when the cell has been executed in the\n",
              "      current browser session. Please rerun this cell to enable.\n",
              "      </output>\n",
              "      <script>// Copyright 2017 Google LLC\n",
              "//\n",
              "// Licensed under the Apache License, Version 2.0 (the \"License\");\n",
              "// you may not use this file except in compliance with the License.\n",
              "// You may obtain a copy of the License at\n",
              "//\n",
              "//      http://www.apache.org/licenses/LICENSE-2.0\n",
              "//\n",
              "// Unless required by applicable law or agreed to in writing, software\n",
              "// distributed under the License is distributed on an \"AS IS\" BASIS,\n",
              "// WITHOUT WARRANTIES OR CONDITIONS OF ANY KIND, either express or implied.\n",
              "// See the License for the specific language governing permissions and\n",
              "// limitations under the License.\n",
              "\n",
              "/**\n",
              " * @fileoverview Helpers for google.colab Python module.\n",
              " */\n",
              "(function(scope) {\n",
              "function span(text, styleAttributes = {}) {\n",
              "  const element = document.createElement('span');\n",
              "  element.textContent = text;\n",
              "  for (const key of Object.keys(styleAttributes)) {\n",
              "    element.style[key] = styleAttributes[key];\n",
              "  }\n",
              "  return element;\n",
              "}\n",
              "\n",
              "// Max number of bytes which will be uploaded at a time.\n",
              "const MAX_PAYLOAD_SIZE = 100 * 1024;\n",
              "\n",
              "function _uploadFiles(inputId, outputId) {\n",
              "  const steps = uploadFilesStep(inputId, outputId);\n",
              "  const outputElement = document.getElementById(outputId);\n",
              "  // Cache steps on the outputElement to make it available for the next call\n",
              "  // to uploadFilesContinue from Python.\n",
              "  outputElement.steps = steps;\n",
              "\n",
              "  return _uploadFilesContinue(outputId);\n",
              "}\n",
              "\n",
              "// This is roughly an async generator (not supported in the browser yet),\n",
              "// where there are multiple asynchronous steps and the Python side is going\n",
              "// to poll for completion of each step.\n",
              "// This uses a Promise to block the python side on completion of each step,\n",
              "// then passes the result of the previous step as the input to the next step.\n",
              "function _uploadFilesContinue(outputId) {\n",
              "  const outputElement = document.getElementById(outputId);\n",
              "  const steps = outputElement.steps;\n",
              "\n",
              "  const next = steps.next(outputElement.lastPromiseValue);\n",
              "  return Promise.resolve(next.value.promise).then((value) => {\n",
              "    // Cache the last promise value to make it available to the next\n",
              "    // step of the generator.\n",
              "    outputElement.lastPromiseValue = value;\n",
              "    return next.value.response;\n",
              "  });\n",
              "}\n",
              "\n",
              "/**\n",
              " * Generator function which is called between each async step of the upload\n",
              " * process.\n",
              " * @param {string} inputId Element ID of the input file picker element.\n",
              " * @param {string} outputId Element ID of the output display.\n",
              " * @return {!Iterable<!Object>} Iterable of next steps.\n",
              " */\n",
              "function* uploadFilesStep(inputId, outputId) {\n",
              "  const inputElement = document.getElementById(inputId);\n",
              "  inputElement.disabled = false;\n",
              "\n",
              "  const outputElement = document.getElementById(outputId);\n",
              "  outputElement.innerHTML = '';\n",
              "\n",
              "  const pickedPromise = new Promise((resolve) => {\n",
              "    inputElement.addEventListener('change', (e) => {\n",
              "      resolve(e.target.files);\n",
              "    });\n",
              "  });\n",
              "\n",
              "  const cancel = document.createElement('button');\n",
              "  inputElement.parentElement.appendChild(cancel);\n",
              "  cancel.textContent = 'Cancel upload';\n",
              "  const cancelPromise = new Promise((resolve) => {\n",
              "    cancel.onclick = () => {\n",
              "      resolve(null);\n",
              "    };\n",
              "  });\n",
              "\n",
              "  // Wait for the user to pick the files.\n",
              "  const files = yield {\n",
              "    promise: Promise.race([pickedPromise, cancelPromise]),\n",
              "    response: {\n",
              "      action: 'starting',\n",
              "    }\n",
              "  };\n",
              "\n",
              "  cancel.remove();\n",
              "\n",
              "  // Disable the input element since further picks are not allowed.\n",
              "  inputElement.disabled = true;\n",
              "\n",
              "  if (!files) {\n",
              "    return {\n",
              "      response: {\n",
              "        action: 'complete',\n",
              "      }\n",
              "    };\n",
              "  }\n",
              "\n",
              "  for (const file of files) {\n",
              "    const li = document.createElement('li');\n",
              "    li.append(span(file.name, {fontWeight: 'bold'}));\n",
              "    li.append(span(\n",
              "        `(${file.type || 'n/a'}) - ${file.size} bytes, ` +\n",
              "        `last modified: ${\n",
              "            file.lastModifiedDate ? file.lastModifiedDate.toLocaleDateString() :\n",
              "                                    'n/a'} - `));\n",
              "    const percent = span('0% done');\n",
              "    li.appendChild(percent);\n",
              "\n",
              "    outputElement.appendChild(li);\n",
              "\n",
              "    const fileDataPromise = new Promise((resolve) => {\n",
              "      const reader = new FileReader();\n",
              "      reader.onload = (e) => {\n",
              "        resolve(e.target.result);\n",
              "      };\n",
              "      reader.readAsArrayBuffer(file);\n",
              "    });\n",
              "    // Wait for the data to be ready.\n",
              "    let fileData = yield {\n",
              "      promise: fileDataPromise,\n",
              "      response: {\n",
              "        action: 'continue',\n",
              "      }\n",
              "    };\n",
              "\n",
              "    // Use a chunked sending to avoid message size limits. See b/62115660.\n",
              "    let position = 0;\n",
              "    do {\n",
              "      const length = Math.min(fileData.byteLength - position, MAX_PAYLOAD_SIZE);\n",
              "      const chunk = new Uint8Array(fileData, position, length);\n",
              "      position += length;\n",
              "\n",
              "      const base64 = btoa(String.fromCharCode.apply(null, chunk));\n",
              "      yield {\n",
              "        response: {\n",
              "          action: 'append',\n",
              "          file: file.name,\n",
              "          data: base64,\n",
              "        },\n",
              "      };\n",
              "\n",
              "      let percentDone = fileData.byteLength === 0 ?\n",
              "          100 :\n",
              "          Math.round((position / fileData.byteLength) * 100);\n",
              "      percent.textContent = `${percentDone}% done`;\n",
              "\n",
              "    } while (position < fileData.byteLength);\n",
              "  }\n",
              "\n",
              "  // All done.\n",
              "  yield {\n",
              "    response: {\n",
              "      action: 'complete',\n",
              "    }\n",
              "  };\n",
              "}\n",
              "\n",
              "scope.google = scope.google || {};\n",
              "scope.google.colab = scope.google.colab || {};\n",
              "scope.google.colab._files = {\n",
              "  _uploadFiles,\n",
              "  _uploadFilesContinue,\n",
              "};\n",
              "})(self);\n",
              "</script> "
            ]
          },
          "metadata": {}
        },
        {
          "output_type": "stream",
          "name": "stdout",
          "text": [
            "Saving ADA_LR1_source.xlsx to ADA_LR1_source.xlsx\n"
          ]
        }
      ]
    },
    {
      "cell_type": "code",
      "source": [
        "X = df.iloc[:, 1:]\n",
        "Y = df.iloc[:, 0]\n",
        "n = len(df.index)"
      ],
      "metadata": {
        "id": "UleudWc8N9h2"
      },
      "execution_count": null,
      "outputs": []
    },
    {
      "cell_type": "code",
      "source": [
        "# Z-нормализация данных\n",
        "\n",
        "mean = np.mean(X, axis=0)\n",
        "deviation = np.std(X, axis=0)\n",
        "X_norm = (X - mean) / deviation\n",
        "\n",
        "x0 = np.ones((n, 1))\n",
        "X_norm.insert(0, \"x0\", x0)"
      ],
      "metadata": {
        "id": "-6mmfzdQRLXn"
      },
      "execution_count": null,
      "outputs": []
    },
    {
      "cell_type": "code",
      "source": [
        "# Расчет весов линейной регрессии по аналитической формуле\n",
        "\n",
        "weights = np.linalg.inv(X_norm.T.dot(X_norm)).dot(X_norm.T).dot(Y)"
      ],
      "metadata": {
        "id": "Zlf7882VXtq1"
      },
      "execution_count": null,
      "outputs": []
    },
    {
      "cell_type": "code",
      "source": [
        "# Построение корреляционной матрицы\n",
        "\n",
        "corr_M = X_norm.corr()"
      ],
      "metadata": {
        "id": "F_dHvOj3h4Ei"
      },
      "execution_count": null,
      "outputs": []
    },
    {
      "cell_type": "code",
      "source": [
        "# Расчет числа обусловленности\n",
        "\n",
        "cond_n = np.linalg.cond(X_norm)"
      ],
      "metadata": {
        "id": "n5XG-_0ErSCR"
      },
      "execution_count": null,
      "outputs": []
    },
    {
      "cell_type": "code",
      "source": [
        "# Вычисление среднеквадратического отклонения\n",
        "\n",
        "Y_predicted = np.matmul(X_norm, weights)\n",
        "MSE = mean_squared_error(Y, Y_predicted)\n",
        "RMSE = MSE ** 0.5\n",
        "print(RMSE)\n",
        "\n",
        "# Вычисление коэффициента детерминации\n",
        "\n",
        "det_coef = r2_score(Y, Y_predicted)\n",
        "print(det_coef)"
      ],
      "metadata": {
        "id": "M4PucFw629uT"
      },
      "execution_count": null,
      "outputs": []
    },
    {
      "cell_type": "code",
      "source": [
        "# Метод градиентного спуска\n",
        "\n",
        "Weights_new = np.ones(len(df.columns))\n",
        "learning_rate = 0.1\n",
        "iter_num = 200\n",
        "S_arr = []\n",
        "for _ in range(iter_num):\n",
        "\n",
        "# Вычисление матриц предсказанных значений и регрессионных остатков\n",
        "  Y_predicted = X_norm.dot(Weights_new)\n",
        "  E = Y - Y_predicted\n",
        "\n",
        "# Добавление в массив очередной функции ошибок\n",
        "  S = np.mean(E ** 2)\n",
        "  S_arr.append(S)\n",
        "\n",
        "# Вычисление градиента и обновление весов\n",
        "  S_grad = 2/n * E.dot(-X_norm)\n",
        "  Weights_new -= S_grad * learning_rate\n",
        "\n",
        "print(Weights_new)\n",
        "print(S_arr)"
      ],
      "metadata": {
        "id": "cXMqhh9nMrUG"
      },
      "execution_count": null,
      "outputs": []
    },
    {
      "cell_type": "code",
      "source": [
        "from sklearn.linear_model import LinearRegression\n",
        "model = LinearRegression()\n",
        "model.fit(X_norm, Y)\n",
        "Y_predicted = model.predict(X_norm)\n",
        "\n",
        "print(Y_predicted)\n",
        "print(Y_predicted - Y)"
      ],
      "metadata": {
        "id": "bGz5OIFDXDC9"
      },
      "execution_count": null,
      "outputs": []
    },
    {
      "cell_type": "code",
      "source": [
        "MSE = mean_squared_error(Y, Y_predicted)\n",
        "RMSE = MSE ** 0.5\n",
        "print(RMSE)"
      ],
      "metadata": {
        "colab": {
          "base_uri": "https://localhost:8080/"
        },
        "id": "yWKIpROnahu0",
        "outputId": "c7f37ac1-f804-4df8-abcd-f918a44b6c2c"
      },
      "execution_count": null,
      "outputs": [
        {
          "output_type": "stream",
          "name": "stdout",
          "text": [
            "1.9977143453164352\n"
          ]
        }
      ]
    },
    {
      "cell_type": "code",
      "source": [
        "import statsmodels.api as sm\n",
        "statmodel = sm.OLS(Y, X_norm).fit()\n",
        "print(statmodel.summary())"
      ],
      "metadata": {
        "colab": {
          "base_uri": "https://localhost:8080/"
        },
        "id": "bt8wPpB-nycO",
        "outputId": "25e87bac-2ea9-45e8-b4c8-424e5b5b97fd"
      },
      "execution_count": null,
      "outputs": [
        {
          "output_type": "stream",
          "name": "stdout",
          "text": [
            "                            OLS Regression Results                            \n",
            "==============================================================================\n",
            "Dep. Variable:                      Y   R-squared:                       0.582\n",
            "Model:                            OLS   Adj. R-squared:                  0.480\n",
            "Method:                 Least Squares   F-statistic:                     5.715\n",
            "Date:                Mon, 06 Nov 2023   Prob (F-statistic):           5.96e-05\n",
            "Time:                        17:13:41   Log-Likelihood:                -99.214\n",
            "No. Observations:                  47   AIC:                             218.4\n",
            "Df Residuals:                      37   BIC:                             236.9\n",
            "Df Model:                           9                                         \n",
            "Covariance Type:            nonrobust                                         \n",
            "==============================================================================\n",
            "                 coef    std err          t      P>|t|      [0.025      0.975]\n",
            "------------------------------------------------------------------------------\n",
            "x0            59.3511      0.328    180.716      0.000      58.686      60.017\n",
            "х1            -0.6570      0.687     -0.956      0.345      -2.049       0.735\n",
            "х2            -2.1023      0.543     -3.874      0.000      -3.202      -1.003\n",
            "х3             1.4112      0.457      3.091      0.004       0.486       2.336\n",
            "х4            -1.1674      0.628     -1.859      0.071      -2.440       0.105\n",
            "х5             0.1721      0.396      0.435      0.666      -0.630       0.974\n",
            "х6            -0.0367      0.436     -0.084      0.933      -0.919       0.846\n",
            "x7            -0.5418      0.705     -0.769      0.447      -1.969       0.886\n",
            "x8             0.2462      0.566      0.435      0.666      -0.900       1.392\n",
            "x9             0.6966      0.499      1.397      0.171      -0.314       1.707\n",
            "==============================================================================\n",
            "Omnibus:                        9.527   Durbin-Watson:                   2.445\n",
            "Prob(Omnibus):                  0.009   Jarque-Bera (JB):               11.587\n",
            "Skew:                           0.658   Prob(JB):                      0.00305\n",
            "Kurtosis:                       5.045   Cond. No.                         5.77\n",
            "==============================================================================\n",
            "\n",
            "Notes:\n",
            "[1] Standard Errors assume that the covariance matrix of the errors is correctly specified.\n"
          ]
        }
      ]
    },
    {
      "cell_type": "code",
      "source": [
        "R2 = r2_score(Y, Y_predicted)\n",
        "MSE = mean_squared_error(Y, Y_predicted)\n",
        "print(R2)\n",
        "print(MSE)"
      ],
      "metadata": {
        "id": "wSqMNzZbic7v",
        "colab": {
          "base_uri": "https://localhost:8080/"
        },
        "outputId": "672b374c-65a5-4ada-c40d-7dea398ab98d"
      },
      "execution_count": null,
      "outputs": [
        {
          "output_type": "stream",
          "name": "stdout",
          "text": [
            "0.5815935517968169\n",
            "3.990862605483073\n"
          ]
        }
      ]
    }
  ]
}