{
  "cells": [
    {
      "cell_type": "code",
      "execution_count": null,
      "metadata": {
        "id": "rKjbj4ivQpKT"
      },
      "outputs": [],
      "source": [
        "import pandas as pd\n",
        "from sklearn.model_selection import GridSearchCV\n",
        "import numpy as np"
      ]
    },
    {
      "cell_type": "code",
      "execution_count": null,
      "metadata": {
        "id": "gXTQiLGtQvHr",
        "colab": {
          "base_uri": "https://localhost:8080/",
          "height": 69
        },
        "outputId": "9868fde1-9098-4323-8faf-a0d02a49f35c"
      },
      "outputs": [
        {
          "output_type": "display_data",
          "data": {
            "text/plain": [
              "<IPython.core.display.HTML object>"
            ],
            "text/html": [
              "\n",
              "     <input type=\"file\" id=\"files-12c18c8b-544c-4967-8b7a-06e2b15c5cde\" name=\"files[]\" multiple disabled\n",
              "        style=\"border:none\" />\n",
              "     <output id=\"result-12c18c8b-544c-4967-8b7a-06e2b15c5cde\">\n",
              "      Upload widget is only available when the cell has been executed in the\n",
              "      current browser session. Please rerun this cell to enable.\n",
              "      </output>\n",
              "      <script>// Copyright 2017 Google LLC\n",
              "//\n",
              "// Licensed under the Apache License, Version 2.0 (the \"License\");\n",
              "// you may not use this file except in compliance with the License.\n",
              "// You may obtain a copy of the License at\n",
              "//\n",
              "//      http://www.apache.org/licenses/LICENSE-2.0\n",
              "//\n",
              "// Unless required by applicable law or agreed to in writing, software\n",
              "// distributed under the License is distributed on an \"AS IS\" BASIS,\n",
              "// WITHOUT WARRANTIES OR CONDITIONS OF ANY KIND, either express or implied.\n",
              "// See the License for the specific language governing permissions and\n",
              "// limitations under the License.\n",
              "\n",
              "/**\n",
              " * @fileoverview Helpers for google.colab Python module.\n",
              " */\n",
              "(function(scope) {\n",
              "function span(text, styleAttributes = {}) {\n",
              "  const element = document.createElement('span');\n",
              "  element.textContent = text;\n",
              "  for (const key of Object.keys(styleAttributes)) {\n",
              "    element.style[key] = styleAttributes[key];\n",
              "  }\n",
              "  return element;\n",
              "}\n",
              "\n",
              "// Max number of bytes which will be uploaded at a time.\n",
              "const MAX_PAYLOAD_SIZE = 100 * 1024;\n",
              "\n",
              "function _uploadFiles(inputId, outputId) {\n",
              "  const steps = uploadFilesStep(inputId, outputId);\n",
              "  const outputElement = document.getElementById(outputId);\n",
              "  // Cache steps on the outputElement to make it available for the next call\n",
              "  // to uploadFilesContinue from Python.\n",
              "  outputElement.steps = steps;\n",
              "\n",
              "  return _uploadFilesContinue(outputId);\n",
              "}\n",
              "\n",
              "// This is roughly an async generator (not supported in the browser yet),\n",
              "// where there are multiple asynchronous steps and the Python side is going\n",
              "// to poll for completion of each step.\n",
              "// This uses a Promise to block the python side on completion of each step,\n",
              "// then passes the result of the previous step as the input to the next step.\n",
              "function _uploadFilesContinue(outputId) {\n",
              "  const outputElement = document.getElementById(outputId);\n",
              "  const steps = outputElement.steps;\n",
              "\n",
              "  const next = steps.next(outputElement.lastPromiseValue);\n",
              "  return Promise.resolve(next.value.promise).then((value) => {\n",
              "    // Cache the last promise value to make it available to the next\n",
              "    // step of the generator.\n",
              "    outputElement.lastPromiseValue = value;\n",
              "    return next.value.response;\n",
              "  });\n",
              "}\n",
              "\n",
              "/**\n",
              " * Generator function which is called between each async step of the upload\n",
              " * process.\n",
              " * @param {string} inputId Element ID of the input file picker element.\n",
              " * @param {string} outputId Element ID of the output display.\n",
              " * @return {!Iterable<!Object>} Iterable of next steps.\n",
              " */\n",
              "function* uploadFilesStep(inputId, outputId) {\n",
              "  const inputElement = document.getElementById(inputId);\n",
              "  inputElement.disabled = false;\n",
              "\n",
              "  const outputElement = document.getElementById(outputId);\n",
              "  outputElement.innerHTML = '';\n",
              "\n",
              "  const pickedPromise = new Promise((resolve) => {\n",
              "    inputElement.addEventListener('change', (e) => {\n",
              "      resolve(e.target.files);\n",
              "    });\n",
              "  });\n",
              "\n",
              "  const cancel = document.createElement('button');\n",
              "  inputElement.parentElement.appendChild(cancel);\n",
              "  cancel.textContent = 'Cancel upload';\n",
              "  const cancelPromise = new Promise((resolve) => {\n",
              "    cancel.onclick = () => {\n",
              "      resolve(null);\n",
              "    };\n",
              "  });\n",
              "\n",
              "  // Wait for the user to pick the files.\n",
              "  const files = yield {\n",
              "    promise: Promise.race([pickedPromise, cancelPromise]),\n",
              "    response: {\n",
              "      action: 'starting',\n",
              "    }\n",
              "  };\n",
              "\n",
              "  cancel.remove();\n",
              "\n",
              "  // Disable the input element since further picks are not allowed.\n",
              "  inputElement.disabled = true;\n",
              "\n",
              "  if (!files) {\n",
              "    return {\n",
              "      response: {\n",
              "        action: 'complete',\n",
              "      }\n",
              "    };\n",
              "  }\n",
              "\n",
              "  for (const file of files) {\n",
              "    const li = document.createElement('li');\n",
              "    li.append(span(file.name, {fontWeight: 'bold'}));\n",
              "    li.append(span(\n",
              "        `(${file.type || 'n/a'}) - ${file.size} bytes, ` +\n",
              "        `last modified: ${\n",
              "            file.lastModifiedDate ? file.lastModifiedDate.toLocaleDateString() :\n",
              "                                    'n/a'} - `));\n",
              "    const percent = span('0% done');\n",
              "    li.appendChild(percent);\n",
              "\n",
              "    outputElement.appendChild(li);\n",
              "\n",
              "    const fileDataPromise = new Promise((resolve) => {\n",
              "      const reader = new FileReader();\n",
              "      reader.onload = (e) => {\n",
              "        resolve(e.target.result);\n",
              "      };\n",
              "      reader.readAsArrayBuffer(file);\n",
              "    });\n",
              "    // Wait for the data to be ready.\n",
              "    let fileData = yield {\n",
              "      promise: fileDataPromise,\n",
              "      response: {\n",
              "        action: 'continue',\n",
              "      }\n",
              "    };\n",
              "\n",
              "    // Use a chunked sending to avoid message size limits. See b/62115660.\n",
              "    let position = 0;\n",
              "    do {\n",
              "      const length = Math.min(fileData.byteLength - position, MAX_PAYLOAD_SIZE);\n",
              "      const chunk = new Uint8Array(fileData, position, length);\n",
              "      position += length;\n",
              "\n",
              "      const base64 = btoa(String.fromCharCode.apply(null, chunk));\n",
              "      yield {\n",
              "        response: {\n",
              "          action: 'append',\n",
              "          file: file.name,\n",
              "          data: base64,\n",
              "        },\n",
              "      };\n",
              "\n",
              "      let percentDone = fileData.byteLength === 0 ?\n",
              "          100 :\n",
              "          Math.round((position / fileData.byteLength) * 100);\n",
              "      percent.textContent = `${percentDone}% done`;\n",
              "\n",
              "    } while (position < fileData.byteLength);\n",
              "  }\n",
              "\n",
              "  // All done.\n",
              "  yield {\n",
              "    response: {\n",
              "      action: 'complete',\n",
              "    }\n",
              "  };\n",
              "}\n",
              "\n",
              "scope.google = scope.google || {};\n",
              "scope.google.colab = scope.google.colab || {};\n",
              "scope.google.colab._files = {\n",
              "  _uploadFiles,\n",
              "  _uploadFilesContinue,\n",
              "};\n",
              "})(self);\n",
              "</script> "
            ]
          },
          "metadata": {}
        },
        {
          "output_type": "stream",
          "name": "stdout",
          "text": [
            "Saving ADA_LR2_source.xlsx to ADA_LR2_source.xlsx\n"
          ]
        }
      ],
      "source": [
        "from google.colab import files\n",
        "uploaded = files.upload()\n",
        "df = pd.read_excel('ADA_LR2_source.xlsx')"
      ]
    },
    {
      "cell_type": "code",
      "source": [
        "X = df.iloc[:, :9]\n",
        "Y = df.iloc[:, 9]"
      ],
      "metadata": {
        "id": "WltqFWAUc41N"
      },
      "execution_count": null,
      "outputs": []
    },
    {
      "cell_type": "code",
      "source": [
        "# Разделение исходных данных на тренировочные и тестовые\n",
        "\n",
        "from sklearn.model_selection import train_test_split\n",
        "random_seed = 27 # 12 для KNN-модели\n",
        "X_train, X_test, Y_train, Y_test = train_test_split(X, Y, train_size=0.85, random_state=random_seed, stratify=Y)\n",
        "print('Распределение Y_train по классам 0 и 1 соответственно:', np.bincount(Y_train))\n",
        "print('Распределение Y_test по классам 0 и 1 соответственно:', np.bincount(Y_test))\n",
        "\n",
        "# Z-нормализация данных\n",
        "\n",
        "mean_train = np.mean(X_train, axis=0)\n",
        "deviation_train = np.std(X_train, axis=0)\n",
        "\n",
        "X_train_norm = (X_train - mean_train) / deviation_train\n",
        "X_test_norm = (X_test - mean_train) / deviation_train"
      ],
      "metadata": {
        "colab": {
          "base_uri": "https://localhost:8080/"
        },
        "id": "JIQletAnnscJ",
        "outputId": "54af39ee-f48c-45c2-e83f-3b8cafd350aa"
      },
      "execution_count": null,
      "outputs": [
        {
          "output_type": "stream",
          "name": "stdout",
          "text": [
            "Распределение Y_train по классам 0 и 1 соответственно: [18 14]\n",
            "Распределение Y_test по классам 0 и 1 соответственно: [3 3]\n"
          ]
        }
      ]
    },
    {
      "cell_type": "code",
      "source": [
        "from sklearn.neighbors import KNeighborsClassifier\n",
        "\n",
        "from sklearn.metrics import classification_report\n",
        "\n",
        "knn = KNeighborsClassifier()\n",
        "grid_params = {'n_neighbors': range(1, 26)}\n",
        "grid = GridSearchCV(knn, grid_params, cv=5, scoring='accuracy')\n",
        "knn_model = grid.fit(X_train_norm, Y_train)\n",
        "\n",
        "print('Наилучший параметр (число соседей):', knn_model.best_params_)\n",
        "print('Точность (без тестовых данных):', knn_model.best_score_ * 100)\n",
        "\n",
        "knn_model_best = knn_model.best_estimator_\n",
        "Y_predicted = knn_model_best.predict(X_test_norm)\n",
        "\n",
        "print(classification_report(Y_test, Y_predicted))"
      ],
      "metadata": {
        "id": "5sxDeWZ8q5sO",
        "colab": {
          "base_uri": "https://localhost:8080/"
        },
        "outputId": "0a43c987-6f13-4f9b-e40c-056fe719f555"
      },
      "execution_count": null,
      "outputs": [
        {
          "output_type": "stream",
          "name": "stdout",
          "text": [
            "Наилучший параметр (число соседей): {'n_neighbors': 1}\n",
            "Точность (без тестовых данных): 63.33333333333334\n",
            "              precision    recall  f1-score   support\n",
            "\n",
            "           0       1.00      0.33      0.50         3\n",
            "           1       0.60      1.00      0.75         3\n",
            "\n",
            "    accuracy                           0.67         6\n",
            "   macro avg       0.80      0.67      0.62         6\n",
            "weighted avg       0.80      0.67      0.62         6\n",
            "\n"
          ]
        }
      ]
    },
    {
      "cell_type": "code",
      "source": [
        "from sklearn.linear_model import LogisticRegression\n",
        "\n",
        "logistic_regression = LogisticRegression()\n",
        "grid_params = {'penalty': ['l1', 'l2'], 'solver': ['liblinear']}\n",
        "\n",
        "grid = GridSearchCV(logistic_regression, grid_params, cv=5, scoring='accuracy')\n",
        "logistic_model = grid.fit(X_train_norm, Y_train)\n",
        "\n",
        "print('Наилучший параметр (метод решения):', grid.best_params_)\n",
        "print('Точность (без тестовых данных):', grid.best_score_ * 100)\n",
        "\n",
        "logistic_model_best = logistic_model.best_estimator_\n",
        "Y_predicted = logistic_model_best.predict(X_test_norm)\n",
        "\n",
        "print(classification_report(Y_test, Y_predicted))"
      ],
      "metadata": {
        "id": "wdV6LY8Wc24b"
      },
      "execution_count": null,
      "outputs": []
    },
    {
      "cell_type": "code",
      "source": [
        "from sklearn.tree import DecisionTreeClassifier\n",
        "\n",
        "decision_tree = DecisionTreeClassifier(splitter='best')\n",
        "grid_params = {'max_depth': range(1, 30)}\n",
        "\n",
        "grid = GridSearchCV(decision_tree, grid_params, cv=5, scoring='accuracy')\n",
        "decision_tree_model = grid.fit(X_train_norm, Y_train)\n",
        "\n",
        "print('Наилучший параметр (глубина дерева):', grid.best_params_)\n",
        "print('Точность (без тестовых данных):', grid.best_score_ * 100)\n",
        "\n",
        "decision_tree_model_best = decision_tree_model.best_estimator_\n",
        "Y_predicted = decision_tree_model_best.predict(X_test_norm)\n",
        "\n",
        "print(classification_report(Y_test, Y_predicted))"
      ],
      "metadata": {
        "colab": {
          "base_uri": "https://localhost:8080/"
        },
        "id": "CT475jvBYb4d",
        "outputId": "41b94e57-5425-4a70-e001-6f54cc5fe6d9"
      },
      "execution_count": null,
      "outputs": [
        {
          "output_type": "stream",
          "name": "stdout",
          "text": [
            "Наилучший параметр (глубина дерева): {'max_depth': 1}\n",
            "Точность (без тестовых данных): 55.714285714285715\n",
            "              precision    recall  f1-score   support\n",
            "\n",
            "           0       0.75      1.00      0.86         3\n",
            "           1       1.00      0.67      0.80         3\n",
            "\n",
            "    accuracy                           0.83         6\n",
            "   macro avg       0.88      0.83      0.83         6\n",
            "weighted avg       0.88      0.83      0.83         6\n",
            "\n"
          ]
        }
      ]
    },
    {
      "cell_type": "code",
      "source": [
        "from sklearn.ensemble import RandomForestClassifier\n",
        "\n",
        "random_forest = RandomForestClassifier()\n",
        "grid_params = {'max_depth': range(1, 30)}\n",
        "\n",
        "grid = GridSearchCV(random_forest, grid_params, cv=5, scoring='accuracy')\n",
        "random_forest_model = grid.fit(X_train_norm, Y_train)\n",
        "\n",
        "print('Наилучший параметр (глубина леса):', grid.best_params_)\n",
        "print('Точность без тестовых данных:', random_forest_model.best_score_ * 100)\n",
        "\n",
        "random_forest_model_best = random_forest_model.best_estimator_\n",
        "Y_predicted = random_forest_model_best.predict(X_test_norm)\n",
        "\n",
        "print(classification_report(Y_test, Y_predicted))"
      ],
      "metadata": {
        "colab": {
          "base_uri": "https://localhost:8080/"
        },
        "id": "K7o4l1WkgSIP",
        "outputId": "5838a1aa-4ee2-4969-f7dd-cc36845cdad5"
      },
      "execution_count": null,
      "outputs": [
        {
          "output_type": "stream",
          "name": "stdout",
          "text": [
            "Наилучший параметр (глубина леса): {'max_depth': 11}\n",
            "Точность без тестовых данных: 59.999999999999986\n",
            "              precision    recall  f1-score   support\n",
            "\n",
            "           0       0.75      1.00      0.86         3\n",
            "           1       1.00      0.67      0.80         3\n",
            "\n",
            "    accuracy                           0.83         6\n",
            "   macro avg       0.88      0.83      0.83         6\n",
            "weighted avg       0.88      0.83      0.83         6\n",
            "\n"
          ]
        }
      ]
    },
    {
      "cell_type": "code",
      "source": [
        "from matplotlib import pyplot as plt\n",
        "from sklearn.metrics import f1_score\n",
        "\n",
        "thresholds = np.linspace(0, 1, 1000)\n",
        "f1_values = []\n",
        "Y_prob_values = random_forest_model_best.predict_proba(X_train)[:, 1]\n",
        "\n",
        "for threshold in thresholds:\n",
        "  Y_predicted = []\n",
        "  for value in Y_prob_values:\n",
        "    if value >= threshold:\n",
        "      Y_predicted.append(1)\n",
        "    else:\n",
        "      Y_predicted.append(0)\n",
        "  f1 = f1_score(Y_train, Y_predicted)\n",
        "  f1_values.append(f1)\n",
        "\n",
        "\n",
        "\n",
        "plt.figure(figsize=(10, 6))\n",
        "plt.plot(thresholds, f1_values)\n",
        "plt.xlabel('Порог отсечения')\n",
        "plt.ylabel('F1-мера')\n",
        "plt.grid(True)\n",
        "plt.title('Зависимость F1-меры от значения порога (DT)')\n",
        "plt.xticks(np.arange(0, 1.05, 0.05))\n",
        "plt.show()"
      ],
      "metadata": {
        "colab": {
          "base_uri": "https://localhost:8080/",
          "height": 564
        },
        "id": "NQwy1ognZCR3",
        "outputId": "c52047f0-1301-456d-f8ca-2dc3409afa4a"
      },
      "execution_count": null,
      "outputs": [
        {
          "output_type": "display_data",
          "data": {
            "text/plain": [
              "<Figure size 1000x600 with 1 Axes>"
            ],
            "image/png": "[encoded data removed]"
          },
          "metadata": {}
        }
      ]
    },
    {
      "cell_type": "code",
      "source": [
        "from sklearn.metrics import f1_score, accuracy_score, precision_score, recall_score, roc_auc_score\n",
        "\n",
        "Y_prob_values = random_forest_model_best.predict_proba(X_train_norm)[:, 1]\n",
        "Y_predicted = []\n",
        "\n",
        "for value in Y_prob_values:\n",
        "  if value >= 0.5:\n",
        "    Y_predicted.append(1)\n",
        "  else:\n",
        "    Y_predicted.append(0)\n",
        "\n",
        "print('Accuracy: ', accuracy_score(Y_train, Y_predicted))\n",
        "print('Precision: ', precision_score(Y_train, Y_predicted))\n",
        "print('Recall: ', recall_score(Y_train, Y_predicted))\n",
        "print('F1: ', f1_score(Y_train, Y_predicted))\n",
        "print('ROC-AUC', roc_auc_score(Y_train, Y_predicted))"
      ],
      "metadata": {
        "colab": {
          "base_uri": "https://localhost:8080/"
        },
        "id": "v3HG7hN0Svt0",
        "outputId": "7178f362-a676-43b7-d069-63ea5a4e9f34"
      },
      "execution_count": null,
      "outputs": [
        {
          "output_type": "stream",
          "name": "stdout",
          "text": [
            "Accuracy:  1.0\n",
            "Precision:  1.0\n",
            "Recall:  1.0\n",
            "F1:  1.0\n",
            "ROC-AUC 1.0\n"
          ]
        }
      ]
    },
    {
      "cell_type": "code",
      "source": [
        "logistic_model_best.coef_[0]"
      ],
      "metadata": {
        "colab": {
          "base_uri": "https://localhost:8080/"
        },
        "id": "NtZQ_QO7Xl0j",
        "outputId": "47bdbe88-c375-49d5-d079-838bd5c779b9"
      },
      "execution_count": null,
      "outputs": [
        {
          "output_type": "execute_result",
          "data": {
            "text/plain": [
              "array([ 0.31399521, -0.50555733,  1.1707514 , -0.70196637, -0.13216789,\n",
              "        0.02303455, -0.35202038, -0.37467281,  0.57165752])"
            ]
          },
          "metadata": {},
          "execution_count": 49
        }
      ]
    },
    {
      "cell_type": "code",
      "source": [
        "feature_importance = random_forest_model.best_estimator_.feature_importances_\n",
        "plt.figure(figsize=(10, 6))\n",
        "plt.bar(range(len(feature_importance)), feature_importance)\n",
        "plt.xticks(np.arange(0, 9, 1))\n",
        "plt.xlabel('Признаки')\n",
        "plt.ylabel('Важность признаков')\n",
        "plt.title('Важность признаков в модели дерева решений')\n",
        "plt.show()"
      ],
      "metadata": {
        "colab": {
          "base_uri": "https://localhost:8080/",
          "height": 564
        },
        "id": "auxjTWa3mVh9",
        "outputId": "055af900-f707-4ba7-f0e3-cf020c0eec8a"
      },
      "execution_count": null,
      "outputs": [
        {
          "output_type": "display_data",
          "data": {
            "text/plain": [
              "<Figure size 1000x600 with 1 Axes>"
            ],
            "image/png": "[encoded data removed]"
          },
          "metadata": {}
        }
      ]
    }
  ],
  "metadata": {
    "colab": {
      "provenance": []
    },
    "kernelspec": {
      "display_name": "Python 3",
      "name": "python3"
    },
    "language_info": {
      "name": "python"
    }
  },
  "nbformat": 4,
  "nbformat_minor": 0
}